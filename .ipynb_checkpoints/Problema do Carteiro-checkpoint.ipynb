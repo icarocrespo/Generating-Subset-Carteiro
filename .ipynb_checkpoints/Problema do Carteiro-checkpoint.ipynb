{
 "cells": [
  {
   "cell_type": "markdown",
   "metadata": {},
   "source": [
    "## Universidade Federal do Pampa - _Campus_ Alegrete\n",
    "## Análise e Projeto de Algoritmos\n",
    "\n",
    "\n",
    "#### Prof. Rodrigo Mansilha\n",
    "\n",
    "#### Acadêmicos: Flávia Amin, Ícaro Crespo, Lucas Garais e Wagner de Oliveira"
   ]
  },
  {
   "cell_type": "code",
   "execution_count": null,
   "metadata": {},
   "outputs": [],
   "source": [
    "# Importação de bibliotecas\n",
    "\n",
    "import numpy as np\n",
    "from numpy import nan as NA\n",
    "import pandas as pd\n",
    "import re\n",
    "import matplotlib.pyplot as plt"
   ]
  },
  {
   "cell_type": "code",
   "execution_count": null,
   "metadata": {},
   "outputs": [],
   "source": []
  }
 ],
 "metadata": {
  "kernelspec": {
   "display_name": "Python 3",
   "language": "python",
   "name": "python3"
  },
  "language_info": {
   "codemirror_mode": {
    "name": "ipython",
    "version": 3
   },
   "file_extension": ".py",
   "mimetype": "text/x-python",
   "name": "python",
   "nbconvert_exporter": "python",
   "pygments_lexer": "ipython3",
   "version": "3.8.5"
  }
 },
 "nbformat": 4,
 "nbformat_minor": 4
}
